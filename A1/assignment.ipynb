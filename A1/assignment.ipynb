{
 "cells": [
  {
   "attachments": {},
   "cell_type": "markdown",
   "metadata": {},
   "source": [
    "# CP2410 Assignment 1 & 2"
   ]
  },
  {
   "attachments": {},
   "cell_type": "markdown",
   "metadata": {},
   "source": [
    "## Q2"
   ]
  },
  {
   "attachments": {},
   "cell_type": "markdown",
   "metadata": {},
   "source": [
    "### Fast Solution"
   ]
  },
  {
   "cell_type": "code",
   "execution_count": 2,
   "metadata": {},
   "outputs": [],
   "source": [
    "def get_primes(n):\n",
    "  result = [True] * (n + 1)\n",
    "  # 0 and 1 are not prime number\n",
    "  result[0] = result[1] = False\n",
    "  for i in range(2, int(n**(0.5))+1):\n",
    "    if result[i]:\n",
    "    # number i is a prime number, remove i**2+n*i\n",
    "      for j in range(i**2, n+1, i):\n",
    "        result[j] = False\n",
    "  return [i for i in range(2, n+1) if result[i]]"
   ]
  },
  {
   "cell_type": "code",
   "execution_count": 3,
   "metadata": {},
   "outputs": [
    {
     "data": {
      "text/plain": [
       "[2, 3, 5, 7, 11, 13, 17, 19]"
      ]
     },
     "execution_count": 3,
     "metadata": {},
     "output_type": "execute_result"
    }
   ],
   "source": [
    "get_primes(20)"
   ]
  },
  {
   "attachments": {},
   "cell_type": "markdown",
   "metadata": {},
   "source": [
    "### Slow Solution"
   ]
  },
  {
   "attachments": {},
   "cell_type": "markdown",
   "metadata": {},
   "source": [
    "## Q1"
   ]
  },
  {
   "cell_type": "code",
   "execution_count": 4,
   "metadata": {},
   "outputs": [
    {
     "data": {
      "text/plain": [
       "232792560"
      ]
     },
     "execution_count": 4,
     "metadata": {},
     "output_type": "execute_result"
    }
   ],
   "source": [
    "factors = {2:4, 3:2, 5:1, 7:1, 11:1, 13:1, 17:1, 19:1}\n",
    "result = 1\n",
    "for k, v in factors.items():\n",
    "    result *= (k**v)\n",
    "result"
   ]
  },
  {
   "attachments": {},
   "cell_type": "markdown",
   "metadata": {},
   "source": [
    "### Fast Solution"
   ]
  },
  {
   "cell_type": "code",
   "execution_count": 5,
   "metadata": {},
   "outputs": [],
   "source": [
    "def find_the_smallest_evenly_divisible(n: int):\n",
    "  primes = get_primes(n)\n",
    "  print(primes)\n",
    "  factors = {}\n",
    "\n",
    "  for num in primes:\n",
    "    factors[num] = 1\n",
    "\n",
    "  squart_root = int(n**0.5)\n",
    "  i = 0\n",
    "  while primes[i] <= squart_root:\n",
    "    i += 1\n",
    "  first_half_for_check = primes[:i]\n",
    "\n",
    "  # find power for first half\n",
    "  for num in first_half_for_check:\n",
    "    power = 0\n",
    "    while num**power < n:\n",
    "      power += 1\n",
    "    factors[num] = power - 1\n",
    "\n",
    "  # for second half, th\n",
    "  \n",
    "  print(factors)\n",
    "  result = 1\n",
    "  for k, v in factors.items():\n",
    "    result *= (k**v)\n",
    "  return result\n"
   ]
  },
  {
   "cell_type": "code",
   "execution_count": 6,
   "metadata": {},
   "outputs": [
    {
     "name": "stdout",
     "output_type": "stream",
     "text": [
      "[2, 3, 5, 7]\n",
      "{2: 3, 3: 2, 5: 1, 7: 1}\n"
     ]
    },
    {
     "data": {
      "text/plain": [
       "2520"
      ]
     },
     "execution_count": 6,
     "metadata": {},
     "output_type": "execute_result"
    }
   ],
   "source": [
    "find_the_smallest_evenly_divisible(10)"
   ]
  },
  {
   "attachments": {},
   "cell_type": "markdown",
   "metadata": {},
   "source": [
    "### Slow Solution"
   ]
  },
  {
   "attachments": {},
   "cell_type": "markdown",
   "metadata": {},
   "source": [
    "## Q3"
   ]
  },
  {
   "attachments": {},
   "cell_type": "markdown",
   "metadata": {},
   "source": [
    "### Slow Solution"
   ]
  },
  {
   "cell_type": "code",
   "execution_count": 7,
   "metadata": {},
   "outputs": [],
   "source": [
    "def find_pythagorean_triplet(n: int):\n",
    "    # 3, 4, 5 is the smallest pythagorean triplet\n",
    "    for c in range(5, n+1):\n",
    "        for b in range(4, c):\n",
    "            for a in range(3, b):\n",
    "                if a**2 + b**2 == c**2 and a + b + c == n:\n",
    "                    print(f\"a: {a}, b: {b}, c: {c}\")\n",
    "                    return\n",
    "    print(\"No pythagorean triplet exist for number:\", n) "
   ]
  },
  {
   "cell_type": "code",
   "execution_count": 8,
   "metadata": {},
   "outputs": [
    {
     "name": "stdout",
     "output_type": "stream",
     "text": [
      "a: 200, b: 375, c: 425\n"
     ]
    }
   ],
   "source": [
    "find_pythagorean_triplet(1000)"
   ]
  },
  {
   "cell_type": "code",
   "execution_count": 13,
   "metadata": {},
   "outputs": [],
   "source": [
    "def find_pythagorean_triplet_v3(n):\n",
    "    for a in range(1, n):\n",
    "        for b in range(a + 1, n):\n",
    "            c = n - a - b\n",
    "            if c <= b:\n",
    "                break\n",
    "            if a**2 + b**2 == c**2:\n",
    "                print (a, b, c)\n",
    "                return\n",
    "    print(\"No pythagorean triplet exist for number:\", n) "
   ]
  },
  {
   "cell_type": "code",
   "execution_count": 10,
   "metadata": {},
   "outputs": [
    {
     "name": "stdout",
     "output_type": "stream",
     "text": [
      "200 375 425\n"
     ]
    }
   ],
   "source": [
    "find_pythagorean_triplet_v3(1000)"
   ]
  },
  {
   "cell_type": "code",
   "execution_count": 47,
   "metadata": {},
   "outputs": [
    {
     "name": "stdout",
     "output_type": "stream",
     "text": [
      "No pythagorean triplet exist for number: 1231\n"
     ]
    }
   ],
   "source": [
    "find_pythagorean_triplet(1231)"
   ]
  },
  {
   "attachments": {},
   "cell_type": "markdown",
   "metadata": {},
   "source": [
    "Time Complexity: O(n^3)"
   ]
  },
  {
   "attachments": {},
   "cell_type": "markdown",
   "metadata": {},
   "source": [
    "From the pythagorean theorem and property of right triangle, we know for all a^2+b^2=c^2, a + b > c. \n",
    "\n",
    "So if a+b+c = n, then c must < n/2."
   ]
  },
  {
   "attachments": {},
   "cell_type": "markdown",
   "metadata": {},
   "source": [
    "#### Q3 faster version(v2), we reduce the length of checking by half for c"
   ]
  },
  {
   "cell_type": "code",
   "execution_count": 11,
   "metadata": {},
   "outputs": [],
   "source": [
    "def find_pythagorean_triplet_v2(n: int):\n",
    "    # 3, 4, 5 is the smallest pythagorean triplet\n",
    "    for c in range(5, n//2 + 1):\n",
    "        for b in range(4, c):\n",
    "            for a in range(3, b):\n",
    "                if a**2 + b**2 == c**2 and a + b + c == n:\n",
    "                    print(f\"a: {a}, b: {b}, c: {c}\")\n",
    "                    return\n",
    "    print(\"No pythagorean triplet exist for number:\", n) \n"
   ]
  },
  {
   "cell_type": "code",
   "execution_count": 12,
   "metadata": {},
   "outputs": [
    {
     "name": "stdout",
     "output_type": "stream",
     "text": [
      "No pythagorean triplet exist for number: 1231\n"
     ]
    }
   ],
   "source": [
    "find_pythagorean_triplet_v2(1231)"
   ]
  },
  {
   "attachments": {},
   "cell_type": "markdown",
   "metadata": {},
   "source": [
    "Time Complexity: O((n/2)^3), still O(n^3)"
   ]
  },
  {
   "cell_type": "code",
   "execution_count": 15,
   "metadata": {},
   "outputs": [
    {
     "name": "stdout",
     "output_type": "stream",
     "text": [
      "No pythagorean triplet exist for number: 1231\n"
     ]
    }
   ],
   "source": [
    "find_pythagorean_triplet_v3(1231)"
   ]
  },
  {
   "cell_type": "code",
   "execution_count": null,
   "metadata": {},
   "outputs": [],
   "source": [
    "def find_pythagorean_triplet_v4(n):\n",
    "    for a in range(1, n//3+1):\n",
    "        for b in range(a + 1, n):\n",
    "            c = n - a - b\n",
    "            if c <= b:\n",
    "                break\n",
    "            if a**2 + b**2 == c**2:\n",
    "                print (a, b, c)\n",
    "                return\n",
    "    print(\"No pythagorean triplet exist for number:\", n) "
   ]
  },
  {
   "cell_type": "code",
   "execution_count": null,
   "metadata": {},
   "outputs": [],
   "source": []
  },
  {
   "cell_type": "code",
   "execution_count": null,
   "metadata": {},
   "outputs": [],
   "source": []
  }
 ],
 "metadata": {
  "kernelspec": {
   "display_name": "Python 3",
   "language": "python",
   "name": "python3"
  },
  "language_info": {
   "codemirror_mode": {
    "name": "ipython",
    "version": 3
   },
   "file_extension": ".py",
   "mimetype": "text/x-python",
   "name": "python",
   "nbconvert_exporter": "python",
   "pygments_lexer": "ipython3",
   "version": "3.11.2"
  },
  "orig_nbformat": 4
 },
 "nbformat": 4,
 "nbformat_minor": 2
}
